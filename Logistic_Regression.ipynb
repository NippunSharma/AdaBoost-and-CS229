{
  "nbformat": 4,
  "nbformat_minor": 0,
  "metadata": {
    "colab": {
      "name": "Logistic Regression",
      "provenance": [],
      "collapsed_sections": [],
      "authorship_tag": "ABX9TyOBY9/FtpyyBbzp5ID4z3N9",
      "include_colab_link": true
    },
    "kernelspec": {
      "name": "python3",
      "display_name": "Python 3"
    }
  },
  "cells": [
    {
      "cell_type": "markdown",
      "metadata": {
        "id": "view-in-github",
        "colab_type": "text"
      },
      "source": [
        "<a href=\"https://colab.research.google.com/github/NippunSharma/Adaptive-Boosting-/blob/master/Logistic_Regression.ipynb\" target=\"_parent\"><img src=\"https://colab.research.google.com/assets/colab-badge.svg\" alt=\"Open In Colab\"/></a>"
      ]
    },
    {
      "cell_type": "code",
      "metadata": {
        "id": "gpD6cCFdDn69",
        "colab_type": "code",
        "colab": {}
      },
      "source": [
        "import numpy as np\n",
        "\n",
        "l = []\n",
        "with open('/content/logistic_x.txt') as x:\n",
        "  for i in x:\n",
        "    a = []\n",
        "    for j in range(len(i.split(\" \"))):\n",
        "      if(i.split(\" \")[j] != \"\"):\n",
        "        a.append(i.split(\" \")[j])\n",
        "    a[0] = float(a[0])\n",
        "    a[1] = float(a[1])\n",
        "    l.append(a)\n",
        "x.close()"
      ],
      "execution_count": 0,
      "outputs": []
    },
    {
      "cell_type": "code",
      "metadata": {
        "id": "5lELxe2KGZyw",
        "colab_type": "code",
        "colab": {}
      },
      "source": [
        "x = np.array(l)"
      ],
      "execution_count": 0,
      "outputs": []
    },
    {
      "cell_type": "code",
      "metadata": {
        "id": "MrHbiKQ-Gu6A",
        "colab_type": "code",
        "colab": {}
      },
      "source": [
        "l = []\n",
        "with open('/content/logistic_y.txt') as y:\n",
        "  for i in y:\n",
        "    a = []\n",
        "    for j in range(len(i.split(\" \"))):\n",
        "      if(i.split(\" \")[j] != \"\"):\n",
        "        a.append(i.split(\" \")[j])\n",
        "    a[0] = float(a[0])\n",
        "    if(a[0] == -1):\n",
        "      a[0] = 0\n",
        "    l.append(a)\n",
        "y.close()"
      ],
      "execution_count": 0,
      "outputs": []
    },
    {
      "cell_type": "code",
      "metadata": {
        "id": "OAM9HQteHKME",
        "colab_type": "code",
        "colab": {}
      },
      "source": [
        "y = np.array(l)"
      ],
      "execution_count": 0,
      "outputs": []
    },
    {
      "cell_type": "code",
      "metadata": {
        "id": "9c82U8UIHRHg",
        "colab_type": "code",
        "colab": {}
      },
      "source": [
        "class LogisticRegression:\n",
        "  def __init__(self, n_iter = 10):    \n",
        "    self.iter = n_iter\n",
        "\n",
        "  def fit(self, X, y):\n",
        "    if(len(X.shape) == 1):\n",
        "      n_samples = X.shape[0]\n",
        "      n_features = 1\n",
        "    else:\n",
        "      n_samples, n_features = X.shape\n",
        "    dummy = np.ones((n_samples, 1))\n",
        "    X = np.array(X).reshape((n_samples, n_features))\n",
        "    X = np.concatenate((X, dummy), axis=1)\n",
        "    self.theta = np.zeros((n_features + 1, 1))\n",
        "    for t in range(self.iter):\n",
        "      self.theta = self.theta - np.dot(np.linalg.inv(self.hessian(self.theta, X)), self.l(self.theta,X,y))\n",
        "  \n",
        "  def predict(self, X):\n",
        "    n_features = len(X)\n",
        "    X = np.array(X).reshape((n_features,1))\n",
        "    dummy = np.ones((1,1))\n",
        "    X = np.concatenate((X, dummy), axis=0)\n",
        "    \n",
        "    if (self.sigmoid(self.theta, X) > 0.5):\n",
        "      return 1\n",
        "    else:\n",
        "      return 0\n",
        "\n",
        "  def sigmoid(self, theta, X):\n",
        "    return(1/(1 + np.math.exp(-np.dot(self.theta.T, X))))\n",
        "\n",
        "  def hessian(self, theta, X):\n",
        "    n_samples, n_features = X.shape\n",
        "    hess = np.zeros((n_features, n_features))\n",
        "    for i in range(n_features):\n",
        "      for j in range(n_features):\n",
        "        for k in range(n_samples):\n",
        "          hess[i][j] += -(X[k,i])*(X[k,j])*(self.sigmoid(theta, X[k,:]))*(1 - self.sigmoid(theta,X[k,:].reshape((n_features, 1))))\n",
        "    \n",
        "    return hess\n",
        "  \n",
        "  def l(self, theta, X, y):\n",
        "    n_samples, n_features = X.shape\n",
        "    l = np.zeros((n_features, 1))\n",
        "    for k in range(n_samples):\n",
        "      l += X[k,:].reshape((n_features,1))*(y[k] - self.sigmoid(theta, X[k,:].reshape((n_features,1))))\n",
        "    return l\n"
      ],
      "execution_count": 0,
      "outputs": []
    },
    {
      "cell_type": "code",
      "metadata": {
        "id": "HSetch4aV__J",
        "colab_type": "code",
        "colab": {}
      },
      "source": [
        "model = LogisticRegression()\n",
        "model.fit(x,y)"
      ],
      "execution_count": 0,
      "outputs": []
    },
    {
      "cell_type": "code",
      "metadata": {
        "id": "MaS2jRHPcZon",
        "colab_type": "code",
        "colab": {
          "base_uri": "https://localhost:8080/",
          "height": 35
        },
        "outputId": "29781bb2-af01-4574-a7b2-92f7ef95e9d5"
      },
      "source": [
        "errors = 0\n",
        "for i in range(len(x)):\n",
        "  if(model.predict(x[i]) != y[i]):\n",
        "    errors+=1\n",
        "print(errors)"
      ],
      "execution_count": 155,
      "outputs": [
        {
          "output_type": "stream",
          "text": [
            "11\n"
          ],
          "name": "stdout"
        }
      ]
    },
    {
      "cell_type": "code",
      "metadata": {
        "id": "U_Bn-rTfnUL3",
        "colab_type": "code",
        "colab": {
          "base_uri": "https://localhost:8080/",
          "height": 69
        },
        "outputId": "7aa9108b-b92a-40d2-c575-b0e8f11f724d"
      },
      "source": [
        "print(model.theta)"
      ],
      "execution_count": 156,
      "outputs": [
        {
          "output_type": "stream",
          "text": [
            "[[ 0.76037154]\n",
            " [ 1.17194674]\n",
            " [-2.6205116 ]]\n"
          ],
          "name": "stdout"
        }
      ]
    }
  ]
}